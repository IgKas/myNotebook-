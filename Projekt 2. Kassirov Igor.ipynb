{
 "cells": [
  {
   "cell_type": "markdown",
   "metadata": {},
   "source": [
    "# Задачи\n"
   ]
  },
  {
   "cell_type": "markdown",
   "metadata": {},
   "source": [
    "- Задача 1. Отличается ли время прохождения различных этапов для пользователей, которые прошли обучение, от пользователей, не начинавших обучение? Насколько обучение сокращает время прохождения этапов?\n",
    "\n",
    "- Задача 2. Существует ли зависимость между вероятностью оплаты тренировки и количеством обучений, которые начинал или завершал пользователь. Нужно доказать, что успешное обучение влияет на оплату само по себе, без разницы, какое оно было по порядку\n",
    "\n",
    "- Дополнительная задача. Как часто пользователи начинают обучение после того, как они выбрали уровень сложности тренировок? Это позволит нам понять, насколько процесс работы с приложением понятен для пользователей: если пользователи после выбора уровня сложности обращаются к обучению, значит, работа с приложением непонятна.\n",
    "\n"
   ]
  },
  {
   "cell_type": "code",
   "execution_count": 1,
   "metadata": {},
   "outputs": [],
   "source": [
    "# Загружаем необходимые в работе библиотеки\n",
    "import pandas as pd\n",
    "import psycopg2\n",
    "import psycopg2.extras \n",
    "import numpy as np\n",
    "import matplotlib\n",
    "import matplotlib.pyplot as plt"
   ]
  },
  {
   "cell_type": "markdown",
   "metadata": {},
   "source": [
    "Первым делом получаем данные из базы, по событиям (Events) и оплатам (Purchase) пользователей, которые зарегистрировались в **2018 году**."
   ]
  },
  {
   "cell_type": "code",
   "execution_count": 2,
   "metadata": {},
   "outputs": [],
   "source": [
    "def getEventsData():\n",
    "    query = '''SELECT e.* FROM case8.events e\n",
    "    WHERE e.user_id in\n",
    "    (SELECT DISTINCT(user_id) \n",
    "    FROM case8.events \n",
    "    WHERE event_type = 'registration' \n",
    "    AND start_time >= '2018-01-01'\n",
    "    AND start_time < '2019-01-01')\n",
    "    '''.format()\n",
    "    conn = psycopg2.connect(\"dbname='skillfactory' user='skillfactory' host='84.201.134.129' password='cCkxxLVrDE8EbvjueeMedPKt' port=5432\")\n",
    "    dict_cur = conn.cursor(cursor_factory=psycopg2.extras.DictCursor)\n",
    "    dict_cur.execute(query)\n",
    "    rows = dict_cur.fetchall()\n",
    "    data = []\n",
    "    for row in rows:\n",
    "        data.append(dict(row))\n",
    "    return data\n",
    "\n",
    "def getPurchaseData():\n",
    "    query = '''SELECT p.* FROM case8.purchase p\n",
    "    WHERE p.user_id in\n",
    "    (SELECT DISTINCT(user_id) \n",
    "    FROM case8.events \n",
    "    WHERE event_type = 'registration' \n",
    "    AND start_time >= '2018-01-01'\n",
    "    AND start_time < '2019-01-01')\n",
    "    '''.format()\n",
    "    conn = psycopg2.connect(\"dbname='skillfactory' user='skillfactory' host='84.201.134.129' password='cCkxxLVrDE8EbvjueeMedPKt' port=5432\")\n",
    "    dict_cur = conn.cursor(cursor_factory=psycopg2.extras.DictCursor)\n",
    "    dict_cur.execute(query)\n",
    "    rows = dict_cur.fetchall()\n",
    "    data = []\n",
    "    for row in rows:\n",
    "        data.append(dict(row))\n",
    "    return data\n",
    "\n",
    "events_df = pd.DataFrame(getEventsData())\n",
    "purchase_df = pd.DataFrame(getPurchaseData())\n"
   ]
  },
  {
   "cell_type": "code",
   "execution_count": 3,
   "metadata": {},
   "outputs": [
    {
     "name": "stdout",
     "output_type": "stream",
     "text": [
      "<class 'pandas.core.frame.DataFrame'>\n",
      "RangeIndex: 82779 entries, 0 to 82778\n",
      "Data columns (total 6 columns):\n",
      " #   Column          Non-Null Count  Dtype         \n",
      "---  ------          --------------  -----         \n",
      " 0   event_type      82779 non-null  object        \n",
      " 1   selected_level  10198 non-null  object        \n",
      " 2   start_time      82779 non-null  datetime64[ns]\n",
      " 3   tutorial_id     41201 non-null  float64       \n",
      " 4   user_id         82779 non-null  int64         \n",
      " 5   id              82779 non-null  int64         \n",
      "dtypes: datetime64[ns](1), float64(1), int64(2), object(2)\n",
      "memory usage: 3.8+ MB\n"
     ]
    }
   ],
   "source": [
    "events_df.info() #получаем общую информацию о датафрейме"
   ]
  },
  {
   "cell_type": "markdown",
   "metadata": {},
   "source": [
    "*Итак, мы видим, что датафрейм **events_df** содержит 82779 строк и 6 столбцов. При этом все строки содержат значения в столбцах **id**, **user_id**, **start_time**, **event_type**, а остальные столбцы содержат пропущенные значения.*\n"
   ]
  },
  {
   "cell_type": "code",
   "execution_count": 4,
   "metadata": {},
   "outputs": [
    {
     "name": "stdout",
     "output_type": "stream",
     "text": [
      "<class 'pandas.core.frame.DataFrame'>\n",
      "RangeIndex: 1974 entries, 0 to 1973\n",
      "Data columns (total 4 columns):\n",
      " #   Column      Non-Null Count  Dtype         \n",
      "---  ------      --------------  -----         \n",
      " 0   user_id     1974 non-null   int64         \n",
      " 1   start_time  1974 non-null   datetime64[ns]\n",
      " 2   amount      1974 non-null   int64         \n",
      " 3   id          1974 non-null   int64         \n",
      "dtypes: datetime64[ns](1), int64(3)\n",
      "memory usage: 61.8 KB\n"
     ]
    }
   ],
   "source": [
    "purchase_df.info()"
   ]
  },
  {
   "cell_type": "markdown",
   "metadata": {},
   "source": [
    "*Датафрейм **purchase_df** содержит 1974 строки и 4 столбца. При этом все строки содержат значения в столбцах.*"
   ]
  },
  {
   "cell_type": "markdown",
   "metadata": {},
   "source": [
    "Произведем преобразование типов и  Объединяем датафреймы"
   ]
  },
  {
   "cell_type": "code",
   "execution_count": 5,
   "metadata": {},
   "outputs": [],
   "source": [
    "purchase_df['event_type'] = 'purchase'"
   ]
  },
  {
   "cell_type": "code",
   "execution_count": 6,
   "metadata": {},
   "outputs": [],
   "source": [
    "events_df['start_time'] = pd.to_datetime(events_df['start_time'])\n",
    "purchase_df['start_time'] = pd.to_datetime(purchase_df['start_time'])"
   ]
  },
  {
   "cell_type": "code",
   "execution_count": 7,
   "metadata": {},
   "outputs": [],
   "source": [
    "events_df = events_df.rename(columns={'id':'event_id'})\n",
    "purchase_df = purchase_df.rename(columns={'id':'purchase_id'})"
   ]
  },
  {
   "cell_type": "code",
   "execution_count": 8,
   "metadata": {},
   "outputs": [],
   "source": [
    "total_events_df = pd.concat([events_df,purchase_df],sort=False)"
   ]
  },
  {
   "cell_type": "code",
   "execution_count": 9,
   "metadata": {},
   "outputs": [],
   "source": [
    "total_events_df = total_events_df.reset_index(drop=True).sort_values('start_time')"
   ]
  },
  {
   "cell_type": "code",
   "execution_count": 10,
   "metadata": {},
   "outputs": [
    {
     "data": {
      "text/html": [
       "<div>\n",
       "<style scoped>\n",
       "    .dataframe tbody tr th:only-of-type {\n",
       "        vertical-align: middle;\n",
       "    }\n",
       "\n",
       "    .dataframe tbody tr th {\n",
       "        vertical-align: top;\n",
       "    }\n",
       "\n",
       "    .dataframe thead th {\n",
       "        text-align: right;\n",
       "    }\n",
       "</style>\n",
       "<table border=\"1\" class=\"dataframe\">\n",
       "  <thead>\n",
       "    <tr style=\"text-align: right;\">\n",
       "      <th></th>\n",
       "      <th>event_type</th>\n",
       "      <th>selected_level</th>\n",
       "      <th>start_time</th>\n",
       "      <th>tutorial_id</th>\n",
       "      <th>user_id</th>\n",
       "      <th>event_id</th>\n",
       "      <th>amount</th>\n",
       "      <th>purchase_id</th>\n",
       "    </tr>\n",
       "  </thead>\n",
       "  <tbody>\n",
       "    <tr>\n",
       "      <th>0</th>\n",
       "      <td>registration</td>\n",
       "      <td>None</td>\n",
       "      <td>2018-01-01 04:51:58</td>\n",
       "      <td>NaN</td>\n",
       "      <td>47758</td>\n",
       "      <td>147264.0</td>\n",
       "      <td>NaN</td>\n",
       "      <td>NaN</td>\n",
       "    </tr>\n",
       "    <tr>\n",
       "      <th>1</th>\n",
       "      <td>registration</td>\n",
       "      <td>None</td>\n",
       "      <td>2018-01-01 08:32:05</td>\n",
       "      <td>NaN</td>\n",
       "      <td>47759</td>\n",
       "      <td>147268.0</td>\n",
       "      <td>NaN</td>\n",
       "      <td>NaN</td>\n",
       "    </tr>\n",
       "    <tr>\n",
       "      <th>2</th>\n",
       "      <td>registration</td>\n",
       "      <td>None</td>\n",
       "      <td>2018-01-01 09:30:10</td>\n",
       "      <td>NaN</td>\n",
       "      <td>47760</td>\n",
       "      <td>147269.0</td>\n",
       "      <td>NaN</td>\n",
       "      <td>NaN</td>\n",
       "    </tr>\n",
       "    <tr>\n",
       "      <th>3</th>\n",
       "      <td>registration</td>\n",
       "      <td>None</td>\n",
       "      <td>2018-01-01 09:39:27</td>\n",
       "      <td>NaN</td>\n",
       "      <td>47761</td>\n",
       "      <td>147270.0</td>\n",
       "      <td>NaN</td>\n",
       "      <td>NaN</td>\n",
       "    </tr>\n",
       "    <tr>\n",
       "      <th>4</th>\n",
       "      <td>registration</td>\n",
       "      <td>None</td>\n",
       "      <td>2018-01-01 11:41:27</td>\n",
       "      <td>NaN</td>\n",
       "      <td>47762</td>\n",
       "      <td>147271.0</td>\n",
       "      <td>NaN</td>\n",
       "      <td>NaN</td>\n",
       "    </tr>\n",
       "    <tr>\n",
       "      <th>5</th>\n",
       "      <td>registration</td>\n",
       "      <td>None</td>\n",
       "      <td>2018-01-01 12:23:51</td>\n",
       "      <td>NaN</td>\n",
       "      <td>47763</td>\n",
       "      <td>147272.0</td>\n",
       "      <td>NaN</td>\n",
       "      <td>NaN</td>\n",
       "    </tr>\n",
       "    <tr>\n",
       "      <th>6</th>\n",
       "      <td>tutorial_start</td>\n",
       "      <td>None</td>\n",
       "      <td>2018-01-01 13:55:11</td>\n",
       "      <td>49555.0</td>\n",
       "      <td>47758</td>\n",
       "      <td>147273.0</td>\n",
       "      <td>NaN</td>\n",
       "      <td>NaN</td>\n",
       "    </tr>\n",
       "    <tr>\n",
       "      <th>7</th>\n",
       "      <td>tutorial_start</td>\n",
       "      <td>None</td>\n",
       "      <td>2018-01-01 13:56:40</td>\n",
       "      <td>49556.0</td>\n",
       "      <td>47761</td>\n",
       "      <td>147274.0</td>\n",
       "      <td>NaN</td>\n",
       "      <td>NaN</td>\n",
       "    </tr>\n",
       "    <tr>\n",
       "      <th>8</th>\n",
       "      <td>tutorial_finish</td>\n",
       "      <td>None</td>\n",
       "      <td>2018-01-01 13:59:44</td>\n",
       "      <td>49556.0</td>\n",
       "      <td>47761</td>\n",
       "      <td>147275.0</td>\n",
       "      <td>NaN</td>\n",
       "      <td>NaN</td>\n",
       "    </tr>\n",
       "    <tr>\n",
       "      <th>9</th>\n",
       "      <td>registration</td>\n",
       "      <td>None</td>\n",
       "      <td>2018-01-01 14:15:39</td>\n",
       "      <td>NaN</td>\n",
       "      <td>47764</td>\n",
       "      <td>147276.0</td>\n",
       "      <td>NaN</td>\n",
       "      <td>NaN</td>\n",
       "    </tr>\n",
       "  </tbody>\n",
       "</table>\n",
       "</div>"
      ],
      "text/plain": [
       "        event_type selected_level          start_time  tutorial_id  user_id  \\\n",
       "0     registration           None 2018-01-01 04:51:58          NaN    47758   \n",
       "1     registration           None 2018-01-01 08:32:05          NaN    47759   \n",
       "2     registration           None 2018-01-01 09:30:10          NaN    47760   \n",
       "3     registration           None 2018-01-01 09:39:27          NaN    47761   \n",
       "4     registration           None 2018-01-01 11:41:27          NaN    47762   \n",
       "5     registration           None 2018-01-01 12:23:51          NaN    47763   \n",
       "6   tutorial_start           None 2018-01-01 13:55:11      49555.0    47758   \n",
       "7   tutorial_start           None 2018-01-01 13:56:40      49556.0    47761   \n",
       "8  tutorial_finish           None 2018-01-01 13:59:44      49556.0    47761   \n",
       "9     registration           None 2018-01-01 14:15:39          NaN    47764   \n",
       "\n",
       "   event_id  amount  purchase_id  \n",
       "0  147264.0     NaN          NaN  \n",
       "1  147268.0     NaN          NaN  \n",
       "2  147269.0     NaN          NaN  \n",
       "3  147270.0     NaN          NaN  \n",
       "4  147271.0     NaN          NaN  \n",
       "5  147272.0     NaN          NaN  \n",
       "6  147273.0     NaN          NaN  \n",
       "7  147274.0     NaN          NaN  \n",
       "8  147275.0     NaN          NaN  \n",
       "9  147276.0     NaN          NaN  "
      ]
     },
     "execution_count": 10,
     "metadata": {},
     "output_type": "execute_result"
    }
   ],
   "source": [
    "total_events_df.head(10)"
   ]
  },
  {
   "cell_type": "code",
   "execution_count": 11,
   "metadata": {},
   "outputs": [
    {
     "name": "stdout",
     "output_type": "stream",
     "text": [
      "<class 'pandas.core.frame.DataFrame'>\n",
      "Int64Index: 84753 entries, 0 to 82821\n",
      "Data columns (total 8 columns):\n",
      " #   Column          Non-Null Count  Dtype         \n",
      "---  ------          --------------  -----         \n",
      " 0   event_type      84753 non-null  object        \n",
      " 1   selected_level  10198 non-null  object        \n",
      " 2   start_time      84753 non-null  datetime64[ns]\n",
      " 3   tutorial_id     41201 non-null  float64       \n",
      " 4   user_id         84753 non-null  int64         \n",
      " 5   event_id        82779 non-null  float64       \n",
      " 6   amount          1974 non-null   float64       \n",
      " 7   purchase_id     1974 non-null   float64       \n",
      "dtypes: datetime64[ns](1), float64(4), int64(1), object(2)\n",
      "memory usage: 5.8+ MB\n"
     ]
    }
   ],
   "source": [
    "total_events_df.info()"
   ]
  },
  {
   "cell_type": "markdown",
   "metadata": {},
   "source": [
    "Далее определим общее количество зарегестрированных человек в приложении."
   ]
  },
  {
   "cell_type": "code",
   "execution_count": 12,
   "metadata": {},
   "outputs": [
    {
     "name": "stdout",
     "output_type": "stream",
     "text": [
      "24460\n"
     ]
    }
   ],
   "source": [
    "all_users = total_events_df['user_id'].unique()\n",
    "print (len(all_users))"
   ]
  },
  {
   "cell_type": "markdown",
   "metadata": {},
   "source": [
    "Выявим количество пользователей, которые перешли к выполнению обучения и завершили его."
   ]
  },
  {
   "cell_type": "code",
   "execution_count": 13,
   "metadata": {
    "scrolled": true
   },
   "outputs": [
    {
     "name": "stdout",
     "output_type": "stream",
     "text": [
      "12531\n"
     ]
    }
   ],
   "source": [
    "users_with_finished_tutorial = total_events_df[total_events_df['event_type'] == 'tutorial_finish']['user_id'].unique()\n",
    "print(len(users_with_finished_tutorial))"
   ]
  },
  {
   "cell_type": "markdown",
   "metadata": {},
   "source": [
    "Определим количество пользователей, которые не проходили обучение."
   ]
  },
  {
   "cell_type": "code",
   "execution_count": 14,
   "metadata": {},
   "outputs": [
    {
     "name": "stdout",
     "output_type": "stream",
     "text": [
      "9909\n",
      "True\n"
     ]
    }
   ],
   "source": [
    "users_with_started_tutorial = total_events_df[total_events_df['event_type'] == 'tutorial_start']['user_id'].unique()\n",
    "set_users_with_started_tutorial = set(users_with_started_tutorial)\n",
    "set_all_users = set(all_users)\n",
    "set_users_not_started_tutorial = set_all_users.difference(set_users_with_started_tutorial)\n",
    "print (len(set_users_not_started_tutorial))\n",
    "print (len(set_all_users)-len(set_users_with_started_tutorial) == len(set_users_not_started_tutorial))"
   ]
  },
  {
   "cell_type": "markdown",
   "metadata": {},
   "source": [
    "**Нахождение времени между этапами**"
   ]
  },
  {
   "cell_type": "markdown",
   "metadata": {},
   "source": [
    "*Первым делом выделим отдельный датафрейм **registration_df**, который будет содержать только события с event_type = registration. Этот датафрейм будет вспомогательным для определения времени между регистрацией и выбором уровня сложности*"
   ]
  },
  {
   "cell_type": "code",
   "execution_count": 15,
   "metadata": {},
   "outputs": [
    {
     "data": {
      "text/plain": [
       "1.0"
      ]
     },
     "execution_count": 15,
     "metadata": {},
     "output_type": "execute_result"
    }
   ],
   "source": [
    "registration_df = total_events_df[total_events_df['event_type'] == 'registration'] \n",
    "registration_df['user_id'].value_counts().mean()"
   ]
  },
  {
   "cell_type": "code",
   "execution_count": 16,
   "metadata": {},
   "outputs": [],
   "source": [
    "#оставим в датафрейме registration_df только те данные, которые нужны для наших вычислений — столбец user_id с идентификатором пользователя и столбец start_time со временем регистрации. Также переименуем столбец start_time в столбец registration_time для понятности\n",
    "registration_df = registration_df[['user_id','start_time']].rename(columns={'start_time':'registration_time'})"
   ]
  },
  {
   "cell_type": "code",
   "execution_count": 17,
   "metadata": {},
   "outputs": [
    {
     "data": {
      "text/html": [
       "<div>\n",
       "<style scoped>\n",
       "    .dataframe tbody tr th:only-of-type {\n",
       "        vertical-align: middle;\n",
       "    }\n",
       "\n",
       "    .dataframe tbody tr th {\n",
       "        vertical-align: top;\n",
       "    }\n",
       "\n",
       "    .dataframe thead th {\n",
       "        text-align: right;\n",
       "    }\n",
       "</style>\n",
       "<table border=\"1\" class=\"dataframe\">\n",
       "  <thead>\n",
       "    <tr style=\"text-align: right;\">\n",
       "      <th></th>\n",
       "      <th>user_id</th>\n",
       "      <th>registration_time</th>\n",
       "    </tr>\n",
       "  </thead>\n",
       "  <tbody>\n",
       "    <tr>\n",
       "      <th>0</th>\n",
       "      <td>47758</td>\n",
       "      <td>2018-01-01 04:51:58</td>\n",
       "    </tr>\n",
       "    <tr>\n",
       "      <th>1</th>\n",
       "      <td>47759</td>\n",
       "      <td>2018-01-01 08:32:05</td>\n",
       "    </tr>\n",
       "    <tr>\n",
       "      <th>2</th>\n",
       "      <td>47760</td>\n",
       "      <td>2018-01-01 09:30:10</td>\n",
       "    </tr>\n",
       "    <tr>\n",
       "      <th>3</th>\n",
       "      <td>47761</td>\n",
       "      <td>2018-01-01 09:39:27</td>\n",
       "    </tr>\n",
       "    <tr>\n",
       "      <th>4</th>\n",
       "      <td>47762</td>\n",
       "      <td>2018-01-01 11:41:27</td>\n",
       "    </tr>\n",
       "  </tbody>\n",
       "</table>\n",
       "</div>"
      ],
      "text/plain": [
       "   user_id   registration_time\n",
       "0    47758 2018-01-01 04:51:58\n",
       "1    47759 2018-01-01 08:32:05\n",
       "2    47760 2018-01-01 09:30:10\n",
       "3    47761 2018-01-01 09:39:27\n",
       "4    47762 2018-01-01 11:41:27"
      ]
     },
     "execution_count": 17,
     "metadata": {},
     "output_type": "execute_result"
    }
   ],
   "source": [
    "registration_df.head()"
   ]
  },
  {
   "cell_type": "markdown",
   "metadata": {},
   "source": [
    "**Затрачиваемое время от начала регистрации пользователей до выбора уровня сложности тренировок.**"
   ]
  },
  {
   "cell_type": "code",
   "execution_count": 18,
   "metadata": {},
   "outputs": [
    {
     "name": "stdout",
     "output_type": "stream",
     "text": [
      "1.0\n",
      "0 days 07:05:08.490144\n",
      "count                      9132\n",
      "mean     0 days 07:05:08.490144\n",
      "std      0 days 04:31:41.194325\n",
      "min             0 days 00:06:07\n",
      "25%      0 days 03:47:53.500000\n",
      "50%      0 days 06:01:46.500000\n",
      "75%      0 days 09:18:06.500000\n",
      "max             1 days 13:26:15\n",
      "Name: timedelta, dtype: object\n"
     ]
    }
   ],
   "source": [
    "users_with_finished_tutorial_df = total_events_df[total_events_df['user_id'].isin(users_with_finished_tutorial)]\n",
    "users_with_finished_tutorial_df_level_choice = users_with_finished_tutorial_df[users_with_finished_tutorial_df['event_type'] == 'level_choice']\n",
    "print(users_with_finished_tutorial_df_level_choice['user_id'].value_counts().mean())\n",
    "users_with_finished_tutorial_df_level_choice = users_with_finished_tutorial_df_level_choice[['user_id','start_time']].rename(columns={'start_time':'level_choice_time'})\n",
    "merged_df_1 = registration_df.merge(users_with_finished_tutorial_df_level_choice,on='user_id',how='inner')\n",
    "merged_df_1['timedelta'] = merged_df_1['level_choice_time'] - merged_df_1['registration_time']\n",
    "print(merged_df_1['timedelta'].mean())\n",
    "print(merged_df_1['timedelta'].describe())"
   ]
  },
  {
   "cell_type": "markdown",
   "metadata": {},
   "source": [
    "Между регистрацией и выбором уровня сложности у пользователей, которые **прошли** обучение в среднем проходит 7 часов 5 минут.\n",
    "- количество пользователей: 9132\n",
    "- четверть пользователей тратит меньше 3 часов 47 минут;\n",
    "- половина всех пользователей тратит менее 6 часов и 1 минуты.\n"
   ]
  },
  {
   "cell_type": "code",
   "execution_count": 19,
   "metadata": {},
   "outputs": [
    {
     "name": "stdout",
     "output_type": "stream",
     "text": [
      "1.0\n",
      "0 days 05:10:36.233644\n",
      "count                       107\n",
      "mean     0 days 05:10:36.233644\n",
      "std      0 days 03:25:55.053229\n",
      "min             0 days 00:05:08\n",
      "25%             0 days 02:28:16\n",
      "50%             0 days 04:58:09\n",
      "75%             0 days 06:56:55\n",
      "max             0 days 15:06:24\n",
      "Name: timedelta, dtype: object\n"
     ]
    }
   ],
   "source": [
    "users_not_started_tutorial_df = total_events_df[total_events_df['user_id'].isin(set_users_not_started_tutorial)]\n",
    "users_not_started_tutorial_df_level_choice = users_not_started_tutorial_df[users_not_started_tutorial_df['event_type'] == 'level_choice']\n",
    "print(users_not_started_tutorial_df_level_choice['user_id'].value_counts().mean())\n",
    "users_not_started_tutorial_df_level_choice = users_not_started_tutorial_df_level_choice[['user_id','start_time']].rename(columns={'start_time':'level_choice_time'})\n",
    "merged_df_4 = registration_df.merge(users_not_started_tutorial_df_level_choice,on='user_id',how='inner')\n",
    "merged_df_4['timedelta'] = merged_df_4['level_choice_time'] - merged_df_4['registration_time']\n",
    "print(merged_df_4['timedelta'].mean())\n",
    "print(merged_df_4['timedelta'].describe())"
   ]
  },
  {
   "cell_type": "markdown",
   "metadata": {},
   "source": [
    "Между регистрацией и выбором уровня сложности у пользователей, которые **не проходили** обучение в среднем проходит 5 часов 10 минут.\n",
    "- количество пользователей: 107\n",
    "- четверть пользователей тратит меньше 2 часов 28 минут;\n",
    "- половина всех пользователей тратит менее 4 часов 58 минут.\n",
    "\n",
    "*Итак, в среднем пользователи, которые **не проходили** обучение тратят почти на 2 часа меньше, между регистрацией в приложении и выбором уровня сложности. Что логично обуславливается отсутствием затрат времени на прохождение обучения.*"
   ]
  },
  {
   "cell_type": "markdown",
   "metadata": {},
   "source": [
    "**Затрачиваемое пользователями время от выбора уровня сложности тренировок до выбора бесплатного набора тренировок.**"
   ]
  },
  {
   "cell_type": "code",
   "execution_count": 20,
   "metadata": {},
   "outputs": [
    {
     "name": "stdout",
     "output_type": "stream",
     "text": [
      "1.0\n",
      "0 days 00:05:09.668813\n",
      "count                      6211\n",
      "mean     0 days 00:05:09.668813\n",
      "std      0 days 00:02:43.241217\n",
      "min             0 days 00:00:15\n",
      "25%             0 days 00:02:56\n",
      "50%             0 days 00:04:47\n",
      "75%             0 days 00:07:01\n",
      "max             0 days 00:15:35\n",
      "Name: timedelta, dtype: object\n"
     ]
    }
   ],
   "source": [
    "users_with_finished_tutorial_df = total_events_df[total_events_df['user_id'].isin(users_with_finished_tutorial)]\n",
    "users_with_finished_tutorial_df_training_choice = users_with_finished_tutorial_df[users_with_finished_tutorial_df['event_type'] == 'training_choice']\n",
    "print(users_with_finished_tutorial_df_training_choice['user_id'].value_counts().mean())\n",
    "users_with_finished_tutorial_df_training_choice = users_with_finished_tutorial_df_training_choice[['user_id','start_time']].rename(columns={'start_time':'training_choice_time'})\n",
    "merged_df_2 = users_with_finished_tutorial_df_level_choice.merge(users_with_finished_tutorial_df_training_choice,on='user_id',how='inner')\n",
    "merged_df_2['timedelta'] = merged_df_2['training_choice_time'] - merged_df_2['level_choice_time']\n",
    "print(merged_df_2['timedelta'].mean())\n",
    "print(merged_df_2['timedelta'].describe())"
   ]
  },
  {
   "cell_type": "markdown",
   "metadata": {},
   "source": [
    "Между выбором уровня сложности и выбора бесплатного набора тренировок у пользователей, которые **прошли** обучение в среднем проходит 5 минут и 10 секунд."
   ]
  },
  {
   "cell_type": "code",
   "execution_count": 21,
   "metadata": {},
   "outputs": [
    {
     "name": "stdout",
     "output_type": "stream",
     "text": [
      "1.0\n",
      "0 days 00:05:31.077922\n",
      "count                        77\n",
      "mean     0 days 00:05:31.077922\n",
      "std      0 days 00:02:46.163027\n",
      "min             0 days 00:00:11\n",
      "25%             0 days 00:03:21\n",
      "50%             0 days 00:05:13\n",
      "75%             0 days 00:07:28\n",
      "max             0 days 00:11:49\n",
      "Name: timedelta, dtype: object\n"
     ]
    }
   ],
   "source": [
    "users_not_started_tutorial_df = total_events_df[total_events_df['user_id'].isin(set_users_not_started_tutorial)]\n",
    "users_not_started_tutorial_df_training_choice = users_not_started_tutorial_df[users_not_started_tutorial_df['event_type'] == 'training_choice']\n",
    "print(users_not_started_tutorial_df_training_choice['user_id'].value_counts().mean())\n",
    "users_not_started_tutorial_df_training_choice = users_not_started_tutorial_df_training_choice[['user_id','start_time']].rename(columns={'start_time':'training_choice_time'})\n",
    "merged_df_5 = users_not_started_tutorial_df_level_choice.merge(users_not_started_tutorial_df_training_choice,on='user_id',how='inner')\n",
    "merged_df_5['timedelta'] = merged_df_5['training_choice_time'] - merged_df_5['level_choice_time']\n",
    "print(merged_df_5['timedelta'].mean())\n",
    "print(merged_df_5['timedelta'].describe())"
   ]
  },
  {
   "cell_type": "markdown",
   "metadata": {},
   "source": [
    "Между выбором уровня сложности и выбора бесплатного набора тренировок у пользователей, которые **не проходили** обучение в среднем проходит 5 с половиной минут."
   ]
  },
  {
   "cell_type": "markdown",
   "metadata": {},
   "source": [
    "**Затрачиваемое пользователями время от выбора бесплатного набора тренировок до покупки платных тренировок.**"
   ]
  },
  {
   "cell_type": "code",
   "execution_count": 22,
   "metadata": {},
   "outputs": [
    {
     "name": "stdout",
     "output_type": "stream",
     "text": [
      "1.0\n",
      "3 days 16:59:07.005614\n",
      "count                      1781\n",
      "mean     3 days 16:59:07.005614\n",
      "std      2 days 03:37:52.042729\n",
      "min             0 days 01:31:41\n",
      "25%             1 days 22:51:29\n",
      "50%             3 days 12:22:50\n",
      "75%             5 days 06:56:21\n",
      "max            10 days 07:56:10\n",
      "Name: timedelta, dtype: object\n"
     ]
    }
   ],
   "source": [
    "users_with_finished_tutorial_df = total_events_df[total_events_df['user_id'].isin(users_with_finished_tutorial)]\n",
    "users_with_finished_tutorial_df_purchase = users_with_finished_tutorial_df[users_with_finished_tutorial_df['event_type'] == 'purchase']\n",
    "print(users_with_finished_tutorial_df_purchase['user_id'].value_counts().mean())\n",
    "users_with_finished_tutorial_df_purchase = users_with_finished_tutorial_df_purchase[['user_id','start_time']].rename(columns={'start_time':'purchase_time'})\n",
    "merged_df_3 = users_with_finished_tutorial_df_training_choice.merge(users_with_finished_tutorial_df_purchase,on='user_id',how='inner')\n",
    "merged_df_3['timedelta'] = merged_df_3['purchase_time'] - merged_df_3['training_choice_time']\n",
    "print(merged_df_3['timedelta'].mean())\n",
    "print(merged_df_3['timedelta'].describe())"
   ]
  },
  {
   "cell_type": "markdown",
   "metadata": {},
   "source": [
    "Между выбором бесплатного набора тренировок и покупки платных тренировок у пользователей, которые **прошли** обучение в среднем проходит 3 дня 16 часов 59 минут.\n",
    "- количество пользователей: 1781\n",
    "- четверть пользователей тратит меньше 1 дня 22 часов и 51 минуты;\n",
    "- половина всех пользователей тратит менее 3 дней 12 часов и 22 минут."
   ]
  },
  {
   "cell_type": "code",
   "execution_count": 23,
   "metadata": {},
   "outputs": [
    {
     "name": "stdout",
     "output_type": "stream",
     "text": [
      "1.0\n",
      "3 days 23:07:16.111111\n",
      "count                        18\n",
      "mean     3 days 23:07:16.111111\n",
      "std      1 days 22:59:05.990710\n",
      "min             1 days 00:16:58\n",
      "25%             2 days 08:16:01\n",
      "50%      3 days 17:44:32.500000\n",
      "75%      5 days 07:25:03.750000\n",
      "max             8 days 08:24:25\n",
      "Name: timedelta, dtype: object\n"
     ]
    }
   ],
   "source": [
    "users_not_started_tutorial_df = total_events_df[total_events_df['user_id'].isin(set_users_not_started_tutorial)]\n",
    "users_not_started_tutorial_df_purchase = users_not_started_tutorial_df[users_not_started_tutorial_df['event_type'] == 'purchase']\n",
    "print(users_not_started_tutorial_df_purchase['user_id'].value_counts().mean())\n",
    "users_not_started_tutorial_df_purchase = users_not_started_tutorial_df_purchase[['user_id','start_time']].rename(columns={'start_time':'purchase_time'})\n",
    "merged_df_6 = users_not_started_tutorial_df_training_choice.merge(users_not_started_tutorial_df_purchase,on='user_id',how='inner')\n",
    "merged_df_6['timedelta'] = merged_df_6['purchase_time'] - merged_df_6['training_choice_time']\n",
    "print(merged_df_6['timedelta'].mean())\n",
    "print(merged_df_6['timedelta'].describe())"
   ]
  },
  {
   "cell_type": "markdown",
   "metadata": {},
   "source": [
    "Между выбором бесплатного набора тренировок и покупки платных тренировок у пользователей, которые **не проходили** обучение в среднем проходит 3 дня 23 часа 7 минут.\n",
    "- количество пользователей: 18\n",
    "- четверть пользователей тратит меньше 2 дней 8 часов и 16 минут;\n",
    "- половина всех пользователей тратит менее 3 дней 17 часов и 44 минут.\n",
    "\n",
    "*В итоге, пользователи, которые прошли обучение, от момента выбора бесплатных тренировок до покупки платных в среднем затрачивают на 6 часов 48 минут меньше тех пользователей, которые обучение не проходили. Из чего можно сделать вывод о небольшом, но присутствующем влиянии обучения на скорость прохождения бесплатных тренировок. Скорее всего, это связанно с тем, что те пользователи, которые пренебрегли прохождением обучения по использованию приложения, затрачивают время на самостоятельный разбор. Так же важно учитывать маленькую выборку пользователей, которые **не проходили** обучение и приобрели платные тренировки. Будь выборка больше, влияние обучения на затрачивание времени можно было бы проследить более точно.*"
   ]
  },
  {
   "cell_type": "markdown",
   "metadata": {},
   "source": [
    "Для наглядности разности между группами воспроизведем все найденные средние временные величины в столбчатой диаграмме"
   ]
  },
  {
   "cell_type": "code",
   "execution_count": 24,
   "metadata": {},
   "outputs": [
    {
     "data": {
      "image/png": "[encoded data removed]",
      "text/plain": [
       "<Figure size 432x288 with 1 Axes>"
      ]
     },
     "metadata": {
      "needs_background": "light"
     },
     "output_type": "display_data"
    }
   ],
   "source": [
    "labels = ['level_choice (часы)', 'training_choice (минуты)', 'purchase (дни)']\n",
    "# Перевели timedelta в тип float по часам, минутам и дням в зависимости от велечины времени\n",
    "users_with_finished_tutorial_list = [7.09, 5.16, 3.71]\n",
    "users_not_started_tutorial_list = [5.18, 5.52, 3.96]\n",
    "\n",
    "x = np.arange(len(labels)) \n",
    "width = 0.27\n",
    "\n",
    "fig, ax = plt.subplots()\n",
    "rects1 = ax.bar(x - width/2, users_with_finished_tutorial_list, width, label='пользователи прошедшие обучение')\n",
    "rects2 = ax.bar(x + width/2, users_not_started_tutorial_list, width, label='пользователи непроходившие обучение')\n",
    "ax.set_ylabel('время')\n",
    "ax.set_title('Затрачиваемое в среднем время на прохождение этапов')\n",
    "ax.set_xticks(x)   \n",
    "ax.set_xticklabels(labels)\n",
    "ax.legend()\n",
    "\n",
    "def autolabel(rects):\n",
    "    for rect in rects:\n",
    "        height = rect.get_height()\n",
    "        ax.annotate('{}'.format(height),\n",
    "                    xy=(rect.get_x() + rect.get_width() / 2, height),\n",
    "                    xytext=(0, 1), \n",
    "                    textcoords=\"offset points\",\n",
    "                    ha='center', va='baseline')\n",
    "\n",
    "\n",
    "autolabel(rects1)\n",
    "autolabel(rects2)\n",
    "\n",
    "fig.tight_layout()\n",
    "\n",
    "plt.show()"
   ]
  },
  {
   "cell_type": "markdown",
   "metadata": {},
   "source": [
    "**Взаимосвязь между прохождением обучения по работе с приложением и оплатой**"
   ]
  },
  {
   "cell_type": "code",
   "execution_count": 25,
   "metadata": {},
   "outputs": [],
   "source": [
    "#Создадим датафрейм с необходимыми нам параметрами:\n",
    "tut_attemps_df = total_events_df.groupby('user_id')['tutorial_id'].nunique().reset_index()\n",
    "tut_attemps_df.columns = ['user_id', 'tutorial_attemps']\n",
    "#Создадим колонку finish_tutorial со значением 1 если окончил обучеие, 0 - если не окончил:\n",
    "tut_attemps_df['finish_tutorial'] = tut_attemps_df.apply(lambda x: 1 if x['user_id'] in users_with_finished_tutorial \\\n",
    "                                                                                            else 0, axis=1)\n",
    "#Создадим колонку purchase со значением 1 если купил платные тренировки, 0 - если покупки не было:\n",
    "set_purchase_users = set(purchase_df['user_id'])\n",
    "tut_attemps_df['purchase'] = tut_attemps_df.apply(lambda x: 1 if x['user_id'] in set_purchase_users \\\n",
    "                                                                             else 0, axis=1)"
   ]
  },
  {
   "cell_type": "code",
   "execution_count": 26,
   "metadata": {},
   "outputs": [
    {
     "data": {
      "text/html": [
       "<div>\n",
       "<style scoped>\n",
       "    .dataframe tbody tr th:only-of-type {\n",
       "        vertical-align: middle;\n",
       "    }\n",
       "\n",
       "    .dataframe tbody tr th {\n",
       "        vertical-align: top;\n",
       "    }\n",
       "\n",
       "    .dataframe thead th {\n",
       "        text-align: right;\n",
       "    }\n",
       "</style>\n",
       "<table border=\"1\" class=\"dataframe\">\n",
       "  <thead>\n",
       "    <tr style=\"text-align: right;\">\n",
       "      <th></th>\n",
       "      <th>user_id</th>\n",
       "      <th>tutorial_attemps</th>\n",
       "      <th>finish_tutorial</th>\n",
       "      <th>purchase</th>\n",
       "    </tr>\n",
       "  </thead>\n",
       "  <tbody>\n",
       "    <tr>\n",
       "      <th>0</th>\n",
       "      <td>47758</td>\n",
       "      <td>2</td>\n",
       "      <td>0</td>\n",
       "      <td>0</td>\n",
       "    </tr>\n",
       "    <tr>\n",
       "      <th>1</th>\n",
       "      <td>47759</td>\n",
       "      <td>2</td>\n",
       "      <td>1</td>\n",
       "      <td>0</td>\n",
       "    </tr>\n",
       "    <tr>\n",
       "      <th>2</th>\n",
       "      <td>47760</td>\n",
       "      <td>2</td>\n",
       "      <td>1</td>\n",
       "      <td>0</td>\n",
       "    </tr>\n",
       "    <tr>\n",
       "      <th>3</th>\n",
       "      <td>47761</td>\n",
       "      <td>3</td>\n",
       "      <td>1</td>\n",
       "      <td>0</td>\n",
       "    </tr>\n",
       "    <tr>\n",
       "      <th>4</th>\n",
       "      <td>47762</td>\n",
       "      <td>1</td>\n",
       "      <td>0</td>\n",
       "      <td>0</td>\n",
       "    </tr>\n",
       "    <tr>\n",
       "      <th>5</th>\n",
       "      <td>47763</td>\n",
       "      <td>1</td>\n",
       "      <td>0</td>\n",
       "      <td>0</td>\n",
       "    </tr>\n",
       "    <tr>\n",
       "      <th>6</th>\n",
       "      <td>47764</td>\n",
       "      <td>1</td>\n",
       "      <td>0</td>\n",
       "      <td>0</td>\n",
       "    </tr>\n",
       "    <tr>\n",
       "      <th>7</th>\n",
       "      <td>47765</td>\n",
       "      <td>2</td>\n",
       "      <td>0</td>\n",
       "      <td>0</td>\n",
       "    </tr>\n",
       "    <tr>\n",
       "      <th>8</th>\n",
       "      <td>47766</td>\n",
       "      <td>2</td>\n",
       "      <td>1</td>\n",
       "      <td>0</td>\n",
       "    </tr>\n",
       "    <tr>\n",
       "      <th>9</th>\n",
       "      <td>47767</td>\n",
       "      <td>1</td>\n",
       "      <td>0</td>\n",
       "      <td>0</td>\n",
       "    </tr>\n",
       "  </tbody>\n",
       "</table>\n",
       "</div>"
      ],
      "text/plain": [
       "   user_id  tutorial_attemps  finish_tutorial  purchase\n",
       "0    47758                 2                0         0\n",
       "1    47759                 2                1         0\n",
       "2    47760                 2                1         0\n",
       "3    47761                 3                1         0\n",
       "4    47762                 1                0         0\n",
       "5    47763                 1                0         0\n",
       "6    47764                 1                0         0\n",
       "7    47765                 2                0         0\n",
       "8    47766                 2                1         0\n",
       "9    47767                 1                0         0"
      ]
     },
     "execution_count": 26,
     "metadata": {},
     "output_type": "execute_result"
    }
   ],
   "source": [
    "tut_attemps_df.head (10) "
   ]
  },
  {
   "cell_type": "code",
   "execution_count": 27,
   "metadata": {},
   "outputs": [
    {
     "name": "stdout",
     "output_type": "stream",
     "text": [
      "Количество пользователей купивших платные тренировки из начинавших обучение по работе с приложением: 1956\n",
      "Общее количество обучений пользователей купивших платные тренировки: 5074\n",
      "Процент пользователей оплативших тренировку, которые завершали обучение один раз или более: 91.05%\n"
     ]
    }
   ],
   "source": [
    "users_purchase = tut_attemps_df[tut_attemps_df['user_id'].isin(users_with_started_tutorial)]\n",
    "users_purchase_1 = users_purchase[users_purchase['purchase'] > 0]\n",
    "print ('Количество пользователей купивших платные тренировки из начинавших обучение по работе с приложением:', (sum(users_purchase_1['purchase'])))\n",
    "print ('Общее количество обучений пользователей купивших платные тренировки:',(sum(users_purchase_1['tutorial_attemps'])))\n",
    "conversion_rate = sum(users_purchase_1['finish_tutorial'])/sum(users_purchase_1['purchase'])\n",
    "print('Процент пользователей оплативших тренировку, которые завершали обучение один раз или более: {:.2%}'.format(conversion_rate))"
   ]
  },
  {
   "cell_type": "code",
   "execution_count": 28,
   "metadata": {},
   "outputs": [
    {
     "data": {
      "image/png": "[encoded data removed]",
      "text/plain": [
       "<Figure size 432x288 with 1 Axes>"
      ]
     },
     "metadata": {},
     "output_type": "display_data"
    }
   ],
   "source": [
    "labels1 = 'Завершали обучение один раз или более', 'Ни разу не завершали обучение'\n",
    "sizes = [91.05, 8.95]\n",
    "explode = (0, 0.2)\n",
    "\n",
    "fig1, ax1 = plt.subplots()\n",
    "ax1.pie(sizes, explode=explode, labels=labels1, autopct='%1.1f%%',\n",
    "        shadow=True, startangle=50)\n",
    "ax1.axis('equal') \n",
    "ax1.set_title('Процент пользователей оплативших тренировку')\n",
    "plt.show()"
   ]
  },
  {
   "cell_type": "markdown",
   "metadata": {},
   "source": [
    "Рассмотрим более подробно каждую группу пользователей оплативших тренировки"
   ]
  },
  {
   "cell_type": "code",
   "execution_count": 29,
   "metadata": {},
   "outputs": [
    {
     "name": "stdout",
     "output_type": "stream",
     "text": [
      "Количество пользователей, завершивших обучение: 1781\n",
      "Процент таких пользователей, перешедших в покупателей: 14.21%\n",
      "Средний чек: 108.07130825379001\n"
     ]
    }
   ],
   "source": [
    "purchase_df_1 = purchase_df[purchase_df['user_id'].isin(users_with_finished_tutorial)]\n",
    "print ('Количество пользователей, завершивших обучение:',(purchase_df_1['user_id'].nunique()))\n",
    "percent_of_purchase_1 = purchase_df_1['user_id'].nunique()/len(users_with_finished_tutorial)\n",
    "print ('Процент таких пользователей, перешедших в покупателей: {:.2%}'.format(percent_of_purchase_1))\n",
    "print ('Средний чек:',(purchase_df_1['amount'].mean()))"
   ]
  },
  {
   "cell_type": "code",
   "execution_count": 30,
   "metadata": {},
   "outputs": [
    {
     "name": "stdout",
     "output_type": "stream",
     "text": [
      "Количество пользователей, начавших обучение, но не завершивших: 175\n",
      "Процент таких пользователей, перешедших в покупателей: 8.66%\n",
      "Средний чек: 105.42857142857143\n"
     ]
    }
   ],
   "source": [
    "users_with_started_tutorial = total_events_df[total_events_df['event_type'] == 'tutorial_start']['user_id'].unique()\n",
    "set_users_with_started_tutorial = set(users_with_started_tutorial)\n",
    "set_users_not_finished_but_started_tutorial = set_users_with_started_tutorial.difference(set(users_with_finished_tutorial))\n",
    "purchase_df_2 = purchase_df[purchase_df['user_id'].isin(set_users_not_finished_but_started_tutorial)]\n",
    "print ('Количество пользователей, начавших обучение, но не завершивших:',(purchase_df_2['user_id'].nunique()))\n",
    "percent_of_purchase_2 = purchase_df_2['user_id'].nunique()/len(set_users_not_finished_but_started_tutorial)\n",
    "print ('Процент таких пользователей, перешедших в покупателей: {:.2%}'.format(percent_of_purchase_2))\n",
    "print ('Средний чек:',(purchase_df_2['amount'].mean()))\n"
   ]
  },
  {
   "cell_type": "code",
   "execution_count": 31,
   "metadata": {},
   "outputs": [
    {
     "name": "stdout",
     "output_type": "stream",
     "text": [
      "Количество пользователей, которые ни разу не начинали обучение: 18\n",
      "Процент таких пользователей, перешедших в покупателей: 0.18%\n",
      "Средний чек: 104.16666666666667\n"
     ]
    }
   ],
   "source": [
    "purchase_df_3 = purchase_df[purchase_df['user_id'].isin(set_users_not_started_tutorial)]\n",
    "print ('Количество пользователей, которые ни разу не начинали обучение:',(purchase_df_3['user_id'].nunique()))\n",
    "percent_of_purchase_3 = purchase_df_3['user_id'].nunique()/len(set_users_not_started_tutorial)\n",
    "print ('Процент таких пользователей, перешедших в покупателей: {:.2%}'.format(percent_of_purchase_3))\n",
    "print ('Средний чек:',(purchase_df_3['amount'].mean()))"
   ]
  },
  {
   "cell_type": "markdown",
   "metadata": {},
   "source": [
    "*В итоге, найденная конверсия показывает прямую зависимость от завершения обучения по работе с приложением и покупки платной тренировки. Как мы видим, прохождение обучения прямо коррелирует с дальнейшей возможностью пользователя стать покупателем платных тренировок. Скорее всего, те пользователи, которые не прошли обучение до конца (либо совсем не обучались работе с приложением) упускали какие-то возможности приложения при его использовании. Следует обязательно рассмотреть способы привлекательности прохождения обучения, например, ввести скидку на покупку платных тренировок или предоставить какое-то количество бесплатно при прохождении обучения. Либо  сделать прохождение обучения обязательным хотя бы 1 раз.*"
   ]
  },
  {
   "cell_type": "markdown",
   "metadata": {},
   "source": [
    "**Нахождение частоты возврата пользователей к обучению после того, как они выбрали уровень сложности тренировок**\n"
   ]
  },
  {
   "cell_type": "code",
   "execution_count": 32,
   "metadata": {},
   "outputs": [
    {
     "name": "stdout",
     "output_type": "stream",
     "text": [
      "Процент возврата к обучению: 24.36%\n"
     ]
    }
   ],
   "source": [
    "tutorial_start_df = total_events_df[total_events_df['event_type'] == 'tutorial_start'] \n",
    "tutorial_start_df = tutorial_start_df[['user_id','start_time']].rename(columns={'start_time':'tutorial_start_time'})\n",
    "merged_df_7 = tutorial_start_df.merge(users_with_finished_tutorial_df_level_choice,on='user_id',how='inner')\n",
    "merged_df_7['timedelta'] = merged_df_7['level_choice_time'] - merged_df_7['tutorial_start_time']\n",
    "merged_df_7['timedelta'] = merged_df_7['timedelta'].apply (lambda x: x / np.timedelta64 (1, 'D'))\n",
    "users_return_start_tutorial = merged_df_7[merged_df_7['timedelta'] < 0] \n",
    "percent_users_return_start_tutorial = len(users_return_start_tutorial['user_id'])/len(merged_df_7['user_id'])\n",
    "print ('Процент возврата к обучению: {:.2%}'.format(percent_users_return_start_tutorial))"
   ]
  },
  {
   "cell_type": "code",
   "execution_count": 33,
   "metadata": {},
   "outputs": [
    {
     "data": {
      "image/png": "[encoded data removed]",
      "text/plain": [
       "<Figure size 432x288 with 1 Axes>"
      ]
     },
     "metadata": {},
     "output_type": "display_data"
    }
   ],
   "source": [
    "labels1 = 'Не возвращались','Возвращались один раз или более'\n",
    "sizes = [75.64, 24.36]\n",
    "explode = (0, 0.1)\n",
    "\n",
    "fig1, ax1 = plt.subplots()\n",
    "ax1.pie(sizes, explode=explode, labels=labels1, autopct='%1.1f%%',\n",
    "        shadow=True, startangle=30)\n",
    "ax1.axis('equal') \n",
    "ax1.set_title('Процент пользователей возвращавшихся к обучению, после выбора уровня сложности тренировок')\n",
    "plt.show()"
   ]
  },
  {
   "cell_type": "markdown",
   "metadata": {},
   "source": [
    "*Почти четверть пользователей возвращается к обучению, после выбора уровня сложности тренировок. В целом это свидетельствует о понятности работы с приложением для большинства пользователей. Тем не менее, следует уделить внимание на возможности улучшения обучающего этапа, либо улучшение интуитивной понятности при использовании приложения.*"
   ]
  }
 ],
 "metadata": {
  "kernelspec": {
   "display_name": "Python 3",
   "language": "python",
   "name": "python3"
  },
  "language_info": {
   "codemirror_mode": {
    "name": "ipython",
    "version": 3
   },
   "file_extension": ".py",
   "mimetype": "text/x-python",
   "name": "python",
   "nbconvert_exporter": "python",
   "pygments_lexer": "ipython3",
   "version": "3.7.6"
  }
 },
 "nbformat": 4,
 "nbformat_minor": 4
}
