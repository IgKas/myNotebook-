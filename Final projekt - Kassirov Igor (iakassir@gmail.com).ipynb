{
 "cells": [
  {
   "cell_type": "markdown",
   "metadata": {},
   "source": [
    "# Задачи"
   ]
  },
  {
   "cell_type": "markdown",
   "metadata": {},
   "source": [
    "- Создать рекомендательную систему по курсам;\n",
    "- Составить таблицу, где к каждому ID курса будут предоставлены ещё два курса, которые будут рекомендоваться."
   ]
  },
  {
   "cell_type": "code",
   "execution_count": 1,
   "metadata": {},
   "outputs": [],
   "source": [
    "# Загружаем необходимые в работе библиотеки\n",
    "import pandas as pd\n",
    "import numpy as np\n",
    "import psycopg2\n",
    "import psycopg2.extras\n",
    "import matplotlib.pyplot as plt\n",
    "%matplotlib inline\n"
   ]
  },
  {
   "cell_type": "markdown",
   "metadata": {},
   "source": [
    "Используем функцию *getPurchaseCourses()*, чтобы выгрузить данные из метабазы SQL по всем продажам курсов в разрезе пользователей. \n",
    "Результат запишем в датафрейм **purchase_df** и получим таблицу с купленными курсами, каждым из пользователей учебной платформы. "
   ]
  },
  {
   "cell_type": "code",
   "execution_count": 2,
   "metadata": {},
   "outputs": [
    {
     "data": {
      "text/html": [
       "<div>\n",
       "<style scoped>\n",
       "    .dataframe tbody tr th:only-of-type {\n",
       "        vertical-align: middle;\n",
       "    }\n",
       "\n",
       "    .dataframe tbody tr th {\n",
       "        vertical-align: top;\n",
       "    }\n",
       "\n",
       "    .dataframe thead th {\n",
       "        text-align: right;\n",
       "    }\n",
       "</style>\n",
       "<table border=\"1\" class=\"dataframe\">\n",
       "  <thead>\n",
       "    <tr style=\"text-align: right;\">\n",
       "      <th></th>\n",
       "      <th>user_id</th>\n",
       "      <th>resource_id</th>\n",
       "    </tr>\n",
       "  </thead>\n",
       "  <tbody>\n",
       "    <tr>\n",
       "      <th>0</th>\n",
       "      <td>51</td>\n",
       "      <td>516</td>\n",
       "    </tr>\n",
       "    <tr>\n",
       "      <th>1</th>\n",
       "      <td>51</td>\n",
       "      <td>1099</td>\n",
       "    </tr>\n",
       "    <tr>\n",
       "      <th>2</th>\n",
       "      <td>974</td>\n",
       "      <td>356</td>\n",
       "    </tr>\n",
       "    <tr>\n",
       "      <th>3</th>\n",
       "      <td>2233</td>\n",
       "      <td>1125</td>\n",
       "    </tr>\n",
       "    <tr>\n",
       "      <th>4</th>\n",
       "      <td>2581</td>\n",
       "      <td>1187</td>\n",
       "    </tr>\n",
       "    <tr>\n",
       "      <th>...</th>\n",
       "      <td>...</td>\n",
       "      <td>...</td>\n",
       "    </tr>\n",
       "    <tr>\n",
       "      <th>70419</th>\n",
       "      <td>2190509</td>\n",
       "      <td>742</td>\n",
       "    </tr>\n",
       "    <tr>\n",
       "      <th>70420</th>\n",
       "      <td>2190575</td>\n",
       "      <td>757</td>\n",
       "    </tr>\n",
       "    <tr>\n",
       "      <th>70421</th>\n",
       "      <td>2190589</td>\n",
       "      <td>1125</td>\n",
       "    </tr>\n",
       "    <tr>\n",
       "      <th>70422</th>\n",
       "      <td>2190991</td>\n",
       "      <td>489</td>\n",
       "    </tr>\n",
       "    <tr>\n",
       "      <th>70423</th>\n",
       "      <td>2191100</td>\n",
       "      <td>569</td>\n",
       "    </tr>\n",
       "  </tbody>\n",
       "</table>\n",
       "<p>70424 rows × 2 columns</p>\n",
       "</div>"
      ],
      "text/plain": [
       "       user_id  resource_id\n",
       "0           51          516\n",
       "1           51         1099\n",
       "2          974          356\n",
       "3         2233         1125\n",
       "4         2581         1187\n",
       "...        ...          ...\n",
       "70419  2190509          742\n",
       "70420  2190575          757\n",
       "70421  2190589         1125\n",
       "70422  2190991          489\n",
       "70423  2191100          569\n",
       "\n",
       "[70424 rows x 2 columns]"
      ]
     },
     "execution_count": 2,
     "metadata": {},
     "output_type": "execute_result"
    }
   ],
   "source": [
    "def getPurchaseCourses():\n",
    "    query = '''\n",
    "    select\n",
    "    distinct f.user_id,\n",
    "    ci.resource_id\n",
    "from \n",
    "    final.carts f\n",
    "join\n",
    "    final.cart_items ci on f.id = ci.cart_id\n",
    "where\n",
    "    f.state = 'successful' and ci.resource_type = 'Course'\n",
    "order by f.user_id\n",
    "    '''.format()\n",
    "    conn = psycopg2.connect(\"dbname='skillfactory' user='skillfactory' host='84.201.134.129' password='cCkxxLVrDE8EbvjueeMedPKt' port=5432\")\n",
    "    dict_cur = conn.cursor(cursor_factory=psycopg2.extras.DictCursor)\n",
    "    dict_cur.execute(query)\n",
    "    rows = dict_cur.fetchall()\n",
    "    data = []\n",
    "    for row in rows:\n",
    "        data.append(dict(row))\n",
    "    return data\n",
    "\n",
    "purchase_df = pd.DataFrame(getPurchaseCourses())\n",
    "purchase_df"
   ]
  },
  {
   "cell_type": "markdown",
   "metadata": {},
   "source": [
    "Сгруппируем пользователей таким образом, чтобы напротив каждого пользователя был список ID курсов, которые он приобрел. Запишем результат в переменную **users_purchase_list**."
   ]
  },
  {
   "cell_type": "code",
   "execution_count": 3,
   "metadata": {},
   "outputs": [
    {
     "data": {
      "text/html": [
       "<div>\n",
       "<style scoped>\n",
       "    .dataframe tbody tr th:only-of-type {\n",
       "        vertical-align: middle;\n",
       "    }\n",
       "\n",
       "    .dataframe tbody tr th {\n",
       "        vertical-align: top;\n",
       "    }\n",
       "\n",
       "    .dataframe thead th {\n",
       "        text-align: right;\n",
       "    }\n",
       "</style>\n",
       "<table border=\"1\" class=\"dataframe\">\n",
       "  <thead>\n",
       "    <tr style=\"text-align: right;\">\n",
       "      <th></th>\n",
       "      <th>user_id</th>\n",
       "      <th>resource_id</th>\n",
       "    </tr>\n",
       "  </thead>\n",
       "  <tbody>\n",
       "    <tr>\n",
       "      <th>0</th>\n",
       "      <td>51</td>\n",
       "      <td>[516, 1099]</td>\n",
       "    </tr>\n",
       "    <tr>\n",
       "      <th>1</th>\n",
       "      <td>974</td>\n",
       "      <td>[356]</td>\n",
       "    </tr>\n",
       "    <tr>\n",
       "      <th>2</th>\n",
       "      <td>2233</td>\n",
       "      <td>[1125]</td>\n",
       "    </tr>\n",
       "    <tr>\n",
       "      <th>3</th>\n",
       "      <td>2581</td>\n",
       "      <td>[1187]</td>\n",
       "    </tr>\n",
       "    <tr>\n",
       "      <th>4</th>\n",
       "      <td>3480</td>\n",
       "      <td>[745]</td>\n",
       "    </tr>\n",
       "    <tr>\n",
       "      <th>...</th>\n",
       "      <td>...</td>\n",
       "      <td>...</td>\n",
       "    </tr>\n",
       "    <tr>\n",
       "      <th>49001</th>\n",
       "      <td>2190509</td>\n",
       "      <td>[742]</td>\n",
       "    </tr>\n",
       "    <tr>\n",
       "      <th>49002</th>\n",
       "      <td>2190575</td>\n",
       "      <td>[757]</td>\n",
       "    </tr>\n",
       "    <tr>\n",
       "      <th>49003</th>\n",
       "      <td>2190589</td>\n",
       "      <td>[1125]</td>\n",
       "    </tr>\n",
       "    <tr>\n",
       "      <th>49004</th>\n",
       "      <td>2190991</td>\n",
       "      <td>[489]</td>\n",
       "    </tr>\n",
       "    <tr>\n",
       "      <th>49005</th>\n",
       "      <td>2191100</td>\n",
       "      <td>[569]</td>\n",
       "    </tr>\n",
       "  </tbody>\n",
       "</table>\n",
       "<p>49006 rows × 2 columns</p>\n",
       "</div>"
      ],
      "text/plain": [
       "       user_id  resource_id\n",
       "0           51  [516, 1099]\n",
       "1          974        [356]\n",
       "2         2233       [1125]\n",
       "3         2581       [1187]\n",
       "4         3480        [745]\n",
       "...        ...          ...\n",
       "49001  2190509        [742]\n",
       "49002  2190575        [757]\n",
       "49003  2190589       [1125]\n",
       "49004  2190991        [489]\n",
       "49005  2191100        [569]\n",
       "\n",
       "[49006 rows x 2 columns]"
      ]
     },
     "execution_count": 3,
     "metadata": {},
     "output_type": "execute_result"
    }
   ],
   "source": [
    "users_purchase_list = purchase_df.groupby(['user_id'])['resource_id'].apply(lambda x: list(np.unique(x))).reset_index()\n",
    "users_purchase_list"
   ]
  },
  {
   "cell_type": "markdown",
   "metadata": {},
   "source": [
    "Далее, разбиваем списки ID курсов для каждого пользователя на все возможные комбинации купленных пар курсов. Данную операцию проделываем с помощью библиотеки *itertools* и метода *combinations*. Результат запишем в список **result_list**."
   ]
  },
  {
   "cell_type": "code",
   "execution_count": 4,
   "metadata": {},
   "outputs": [],
   "source": [
    "import itertools\n",
    "result_list = list()\n",
    "# проходим по спискам resource_id \n",
    "for courses in users_purchase_list['resource_id']:\n",
    "    # проходим циклом по содержимому каждого списка с делением на пары\n",
    "    for course_pair in itertools.combinations(courses, 2): \n",
    "        result_list.append(course_pair)"
   ]
  },
  {
   "cell_type": "code",
   "execution_count": 5,
   "metadata": {},
   "outputs": [
    {
     "data": {
      "text/plain": [
       "40017"
      ]
     },
     "execution_count": 5,
     "metadata": {},
     "output_type": "execute_result"
    }
   ],
   "source": [
    "# просмотрим получившееся количество пар купленных курсов\n",
    "len(result_list)"
   ]
  },
  {
   "cell_type": "markdown",
   "metadata": {},
   "source": [
    "Удалим дубликаты, записав результат во множество **result_set**."
   ]
  },
  {
   "cell_type": "code",
   "execution_count": 6,
   "metadata": {},
   "outputs": [
    {
     "data": {
      "text/plain": [
       "3989"
      ]
     },
     "execution_count": 6,
     "metadata": {},
     "output_type": "execute_result"
    }
   ],
   "source": [
    "result_set = set(result_list)\n",
    "len(result_set)"
   ]
  },
  {
   "cell_type": "markdown",
   "metadata": {},
   "source": [
    "Посчитаем количество продаж каждой пары. Для этого воспользуемся библиотекой *collections*, в которой есть счетчик *Counter()*."
   ]
  },
  {
   "cell_type": "code",
   "execution_count": 7,
   "metadata": {},
   "outputs": [
    {
     "name": "stdout",
     "output_type": "stream",
     "text": [
      "Counter({(551, 566): 797, (515, 551): 417, (489, 551): 311, (523, 551): 304, (566, 794): 290, (489, 515): 286, (490, 566): 253, (490, 551): 247, (570, 752): 247, (569, 572): 216, (515, 523): 213, (553, 745): 212, (489, 523): 206, (569, 840): 204, (514, 551): 200, (516, 745): 199, (515, 566): 195, (489, 566): 188})\n"
     ]
    }
   ],
   "source": [
    "import collections\n",
    "c = collections.Counter()\n",
    "for pairs in result_list:\n",
    "    c[pairs]+=1\n",
    "print(c)"
   ]
  },
  {
   "cell_type": "markdown",
   "metadata": {},
   "source": [
    "Преобразуем наш счетчик \"с\" в словарь. В котором, в качестве ключа будет пара курсов, а в качестве значения - популярность пары (чем выше число, тем выше популярность и соответственно продажи этих пар)."
   ]
  },
  {
   "cell_type": "code",
   "execution_count": 8,
   "metadata": {},
   "outputs": [
    {
     "data": {
      "text/plain": [
       "{(516, 1099): 25,\n",
       " (356, 357): 100,\n",
       " (356, 1125): 44,\n",
       " (357, 1125): 52,\n",
       " (553, 1147): 16,\n",
       " (361, 1138): 40,\n",
       " (1125, 1140): 1,\n",
       " (551, 745): 138,\n",
       " (553, 745): 212,\n",
       " (551, 1138): 14,\n",
       " (553, 568): 83,\n",
       " (514, 517): 10,\n",
       " (514, 566): 138,\n",
       " (517, 566): 21,\n",
       " (363, 511): 99,\n",
       " (363, 562): 77,\n",
       " (363, 563): 33,\n",
       " (511, 562): 55,\n",
       " (511, 563): 19,\n",
       " (562, 563): 53,\n",
       " (568, 745): 102,\n",
       " (509, 553): 48,\n",
       " (509, 745): 59,\n",
       " (1125, 1144): 22,\n",
       " (509, 568): 46,\n",
       " (509, 672): 5,\n",
       " (568, 672): 4,\n",
       " (516, 552): 12,\n",
       " (356, 552): 7,\n",
       " (357, 571): 112,\n",
       " (509, 516): 35,\n",
       " ...}"
      ]
     },
     "execution_count": 8,
     "metadata": {},
     "output_type": "execute_result"
    }
   ],
   "source": [
    "dict_c = dict(c)\n",
    "dict_c"
   ]
  },
  {
   "cell_type": "markdown",
   "metadata": {},
   "source": [
    "Отсортируем получившийся словарь по парам ID курсов в порядке возрастания и запишем результат в словарь **sorted_pairs**."
   ]
  },
  {
   "cell_type": "code",
   "execution_count": 9,
   "metadata": {},
   "outputs": [
    {
     "data": {
      "text/plain": [
       "{(356, 357): 100,\n",
       " (356, 360): 1,\n",
       " (356, 361): 17,\n",
       " (356, 366): 15,\n",
       " (356, 367): 12,\n",
       " (356, 368): 1,\n",
       " (356, 489): 26,\n",
       " (356, 490): 13,\n",
       " (356, 502): 17,\n",
       " (356, 503): 1,\n",
       " (356, 508): 1,\n",
       " (356, 509): 5,\n",
       " (356, 513): 1,\n",
       " (356, 514): 35,\n",
       " (356, 515): 21,\n",
       " (356, 516): 16,\n",
       " (356, 517): 3,\n",
       " (356, 519): 14,\n",
       " (356, 523): 24,\n",
       " (356, 551): 48,\n",
       " ...}"
      ]
     },
     "execution_count": 9,
     "metadata": {},
     "output_type": "execute_result"
    }
   ],
   "source": [
    "sorted_pairs = {k: v for k, v in sorted(dict_c.items(), key=lambda item: item[0], reverse=False)}\n",
    "sorted_pairs"
   ]
  },
  {
   "cell_type": "markdown",
   "metadata": {},
   "source": [
    "Создадим функцию *recommend*. Которая будет принимать на вход ID курса и выдавать нам список, содержащий 2 самые популярные пары с этим курсом."
   ]
  },
  {
   "cell_type": "code",
   "execution_count": 10,
   "metadata": {},
   "outputs": [],
   "source": [
    "def recommend(course):\n",
    "    course_list = [] #создаем пустой список\n",
    "    for i in sorted_pairs.keys(): #проходим циклом по ключам отсортированного словаря\n",
    "        if i[0] == course or i[1] == course: # если первый или второй элемент пары курсов = ID курсу, который мы вводим на вход функции\n",
    "            course_list.append((i, sorted_pairs[i])) # то добавляем в список кортеж, который состоит из пары курсов и их количества\n",
    "    sorted_course_list = sorted(course_list, key=lambda x: x[1], reverse=True) # сортируем список в порядке убывания по количеству\n",
    "    return sorted_course_list[:2] # выводим только 2 значения, в которых содержатся курсы для рекомендации №1 и №2"
   ]
  },
  {
   "cell_type": "markdown",
   "metadata": {},
   "source": [
    "Проверим, как работает наша функция, введя курс \"523\"."
   ]
  },
  {
   "cell_type": "code",
   "execution_count": 11,
   "metadata": {},
   "outputs": [
    {
     "data": {
      "text/plain": [
       "[((523, 551), 304), ((515, 523), 213)]"
      ]
     },
     "execution_count": 11,
     "metadata": {},
     "output_type": "execute_result"
    }
   ],
   "source": [
    "recommend(523)"
   ]
  },
  {
   "cell_type": "markdown",
   "metadata": {},
   "source": [
    "Мы получили два кортежа, которые содержат две самые популярные пары курсов и их количество. Итого, на примере курса с **ID = 523**, мы получаем рекомендации двух других курсов с **ID = 551 и 515**."
   ]
  },
  {
   "cell_type": "markdown",
   "metadata": {},
   "source": [
    "Далее создадим список всех курсов с их уникальными значениями и отсортируем в порядке возрастания."
   ]
  },
  {
   "cell_type": "code",
   "execution_count": 12,
   "metadata": {},
   "outputs": [
    {
     "name": "stdout",
     "output_type": "stream",
     "text": [
      "[356, 357, 358, 359, 360, 361, 362, 363, 364, 365, 366, 367, 368, 489, 490, 502, 503, 504, 507, 508, 509, 511, 513, 514, 515, 516, 517, 518, 519, 523, 551, 552, 553, 562, 563, 564, 566, 568, 569, 570, 571, 572, 659, 664, 670, 671, 672, 679, 741, 742, 743, 744, 745, 749, 750, 752, 753, 755, 756, 757, 764, 765, 776, 777, 791, 794, 800, 803, 809, 810, 813, 814, 829, 830, 833, 834, 835, 836, 837, 840, 862, 863, 864, 865, 866, 902, 907, 908, 909, 911, 912, 1099, 1100, 1101, 1102, 1103, 1104, 1115, 1116, 1124, 1125, 1128, 1129, 1138, 1139, 1140, 1141, 1144, 1145, 1146, 1147, 1152, 1156, 1160, 1161, 1181, 1182, 1184, 1185, 1186, 1187, 1188, 1198, 1199, 1200, 1201]\n"
     ]
    }
   ],
   "source": [
    "list_of_courses = purchase_df['resource_id'].unique()\n",
    "list_of_courses = sorted(list_of_courses)\n",
    "print (list_of_courses)"
   ]
  },
  {
   "cell_type": "markdown",
   "metadata": {},
   "source": [
    "Теперь всё готово, для создания датафрейма содержащего в себе ID каждого курса и две самые популярные пары курсов с их количеством."
   ]
  },
  {
   "cell_type": "code",
   "execution_count": 13,
   "metadata": {},
   "outputs": [
    {
     "data": {
      "text/html": [
       "<div>\n",
       "<style scoped>\n",
       "    .dataframe tbody tr th:only-of-type {\n",
       "        vertical-align: middle;\n",
       "    }\n",
       "\n",
       "    .dataframe tbody tr th {\n",
       "        vertical-align: top;\n",
       "    }\n",
       "\n",
       "    .dataframe thead th {\n",
       "        text-align: right;\n",
       "    }\n",
       "</style>\n",
       "<table border=\"1\" class=\"dataframe\">\n",
       "  <thead>\n",
       "    <tr style=\"text-align: right;\">\n",
       "      <th></th>\n",
       "      <th>Рекомендация №1</th>\n",
       "      <th>Рекомендация №2</th>\n",
       "    </tr>\n",
       "    <tr>\n",
       "      <th>Курс_ID</th>\n",
       "      <th></th>\n",
       "      <th></th>\n",
       "    </tr>\n",
       "  </thead>\n",
       "  <tbody>\n",
       "    <tr>\n",
       "      <th>356</th>\n",
       "      <td>((356, 571), 103)</td>\n",
       "      <td>((356, 357), 100)</td>\n",
       "    </tr>\n",
       "    <tr>\n",
       "      <th>357</th>\n",
       "      <td>((357, 571), 112)</td>\n",
       "      <td>((356, 357), 100)</td>\n",
       "    </tr>\n",
       "    <tr>\n",
       "      <th>358</th>\n",
       "      <td>((358, 570), 25)</td>\n",
       "      <td>((358, 752), 19)</td>\n",
       "    </tr>\n",
       "    <tr>\n",
       "      <th>359</th>\n",
       "      <td>((359, 570), 16)</td>\n",
       "      <td>((358, 359), 15)</td>\n",
       "    </tr>\n",
       "    <tr>\n",
       "      <th>360</th>\n",
       "      <td>((360, 745), 17)</td>\n",
       "      <td>((360, 516), 12)</td>\n",
       "    </tr>\n",
       "    <tr>\n",
       "      <th>...</th>\n",
       "      <td>...</td>\n",
       "      <td>...</td>\n",
       "    </tr>\n",
       "    <tr>\n",
       "      <th>1188</th>\n",
       "      <td>((1141, 1188), 15)</td>\n",
       "      <td>((513, 1188), 11)</td>\n",
       "    </tr>\n",
       "    <tr>\n",
       "      <th>1198</th>\n",
       "      <td>((571, 1198), 5)</td>\n",
       "      <td>((551, 1198), 3)</td>\n",
       "    </tr>\n",
       "    <tr>\n",
       "      <th>1199</th>\n",
       "      <td>((523, 1199), 2)</td>\n",
       "      <td>((359, 1199), 1)</td>\n",
       "    </tr>\n",
       "    <tr>\n",
       "      <th>1200</th>\n",
       "      <td>((794, 1200), 1)</td>\n",
       "      <td>((866, 1200), 1)</td>\n",
       "    </tr>\n",
       "    <tr>\n",
       "      <th>1201</th>\n",
       "      <td>((571, 1201), 1)</td>\n",
       "      <td>((1125, 1201), 1)</td>\n",
       "    </tr>\n",
       "  </tbody>\n",
       "</table>\n",
       "<p>126 rows × 2 columns</p>\n",
       "</div>"
      ],
      "text/plain": [
       "            Рекомендация №1    Рекомендация №2\n",
       "Курс_ID                                       \n",
       "356       ((356, 571), 103)  ((356, 357), 100)\n",
       "357       ((357, 571), 112)  ((356, 357), 100)\n",
       "358        ((358, 570), 25)   ((358, 752), 19)\n",
       "359        ((359, 570), 16)   ((358, 359), 15)\n",
       "360        ((360, 745), 17)   ((360, 516), 12)\n",
       "...                     ...                ...\n",
       "1188     ((1141, 1188), 15)  ((513, 1188), 11)\n",
       "1198       ((571, 1198), 5)   ((551, 1198), 3)\n",
       "1199       ((523, 1199), 2)   ((359, 1199), 1)\n",
       "1200       ((794, 1200), 1)   ((866, 1200), 1)\n",
       "1201       ((571, 1201), 1)  ((1125, 1201), 1)\n",
       "\n",
       "[126 rows x 2 columns]"
      ]
     },
     "execution_count": 13,
     "metadata": {},
     "output_type": "execute_result"
    }
   ],
   "source": [
    "recomendations_df = pd.DataFrame(columns = ['Рекомендация №1', 'Рекомендация №2'])\n",
    "for i in list_of_courses:\n",
    "        recomendations_df.loc[i] = [recommend(i)[0], recommend(i)[1]]\n",
    "recomendations_df.index.name = 'Курс_ID'\n",
    "recomendations_df"
   ]
  },
  {
   "cell_type": "markdown",
   "metadata": {},
   "source": [
    "Импортируем получившийся датафрейм в таблицу excel."
   ]
  },
  {
   "cell_type": "code",
   "execution_count": 14,
   "metadata": {},
   "outputs": [],
   "source": [
    "recomendations_df.to_excel(r'recommendation_table.xlsx')"
   ]
  },
  {
   "cell_type": "markdown",
   "metadata": {},
   "source": [
    "Итак, мы составили таблицу [https://drive.google.com/file/d/1hblMDLZpRY-RXCb31qqEaSOM8jpQrwsj/view?usp=sharing], которая ляжет в основу нашей рекомендательной системы к каждому доступному курсу на обучающей платформе. Используя эти данные, предлагаем ввести выбор пакетной оплаты курсов, для удобства пользователей. Помимо этого, для стимулирования большего числа покупок, можно создать скидочную или бонусную программу при покупке курсов в виде пакетов."
   ]
  },
  {
   "cell_type": "markdown",
   "metadata": {},
   "source": [
    "Помимо \"точечной\" рекомендации к каждому курсу. Предлагаем создать на платформе рекомендации, содержащие в себе 10 лучших продающихся и наиболее востребованных пар курсов. Подаваться это может, например, под предлогом изучить наиболее актуальные и популярные курсы в данный момент. Список можно сделать обновляемым с течением времени. "
   ]
  },
  {
   "cell_type": "code",
   "execution_count": 15,
   "metadata": {},
   "outputs": [
    {
     "data": {
      "text/html": [
       "<div>\n",
       "<style scoped>\n",
       "    .dataframe tbody tr th:only-of-type {\n",
       "        vertical-align: middle;\n",
       "    }\n",
       "\n",
       "    .dataframe tbody tr th {\n",
       "        vertical-align: top;\n",
       "    }\n",
       "\n",
       "    .dataframe thead th {\n",
       "        text-align: right;\n",
       "    }\n",
       "</style>\n",
       "<table border=\"1\" class=\"dataframe\">\n",
       "  <thead>\n",
       "    <tr style=\"text-align: right;\">\n",
       "      <th></th>\n",
       "      <th>Пара курсов</th>\n",
       "      <th>Количество продаж</th>\n",
       "    </tr>\n",
       "    <tr>\n",
       "      <th>Топ-10</th>\n",
       "      <th></th>\n",
       "      <th></th>\n",
       "    </tr>\n",
       "  </thead>\n",
       "  <tbody>\n",
       "    <tr>\n",
       "      <th>1</th>\n",
       "      <td>(551, 566)</td>\n",
       "      <td>797</td>\n",
       "    </tr>\n",
       "    <tr>\n",
       "      <th>2</th>\n",
       "      <td>(515, 551)</td>\n",
       "      <td>417</td>\n",
       "    </tr>\n",
       "    <tr>\n",
       "      <th>3</th>\n",
       "      <td>(489, 551)</td>\n",
       "      <td>311</td>\n",
       "    </tr>\n",
       "    <tr>\n",
       "      <th>4</th>\n",
       "      <td>(523, 551)</td>\n",
       "      <td>304</td>\n",
       "    </tr>\n",
       "    <tr>\n",
       "      <th>5</th>\n",
       "      <td>(566, 794)</td>\n",
       "      <td>290</td>\n",
       "    </tr>\n",
       "    <tr>\n",
       "      <th>6</th>\n",
       "      <td>(489, 515)</td>\n",
       "      <td>286</td>\n",
       "    </tr>\n",
       "    <tr>\n",
       "      <th>7</th>\n",
       "      <td>(490, 566)</td>\n",
       "      <td>253</td>\n",
       "    </tr>\n",
       "    <tr>\n",
       "      <th>8</th>\n",
       "      <td>(490, 551)</td>\n",
       "      <td>247</td>\n",
       "    </tr>\n",
       "    <tr>\n",
       "      <th>9</th>\n",
       "      <td>(570, 752)</td>\n",
       "      <td>247</td>\n",
       "    </tr>\n",
       "    <tr>\n",
       "      <th>10</th>\n",
       "      <td>(569, 572)</td>\n",
       "      <td>216</td>\n",
       "    </tr>\n",
       "  </tbody>\n",
       "</table>\n",
       "</div>"
      ],
      "text/plain": [
       "Топ-10 Пара курсов  Количество продаж\n",
       "1       (551, 566)                797\n",
       "2       (515, 551)                417\n",
       "3       (489, 551)                311\n",
       "4       (523, 551)                304\n",
       "5       (566, 794)                290\n",
       "6       (489, 515)                286\n",
       "7       (490, 566)                253\n",
       "8       (490, 551)                247\n",
       "9       (570, 752)                247\n",
       "10      (569, 572)                216"
      ]
     },
     "execution_count": 15,
     "metadata": {},
     "output_type": "execute_result"
    }
   ],
   "source": [
    "course_list_1 = [] \n",
    "for i in sorted_pairs.keys(): \n",
    "    course_list_1.append((i, sorted_pairs[i])) \n",
    "sorted_course_list_1 = sorted(course_list_1, key=lambda x: x[1], reverse=True)\n",
    "popular_df = pd.DataFrame(sorted_course_list_1[:10], columns = ['Пара курсов', 'Количество продаж'], index = [1,2,3,4,5,6,7,8,9,10])\n",
    "popular_df.index.name = 'Топ-10'\n",
    "popular_df"
   ]
  },
  {
   "cell_type": "markdown",
   "metadata": {},
   "source": [
    "Для наглядности отображения **Топ-10** используем график."
   ]
  },
  {
   "cell_type": "code",
   "execution_count": 16,
   "metadata": {},
   "outputs": [
    {
     "data": {
      "text/plain": [
       "<matplotlib.axes._subplots.AxesSubplot at 0x29b562236c8>"
      ]
     },
     "execution_count": 16,
     "metadata": {},
     "output_type": "execute_result"
    },
    {
     "data": {
      "image/png": "[encoded data removed]",
      "text/plain": [
       "<Figure size 1080x720 with 1 Axes>"
      ]
     },
     "metadata": {
      "needs_background": "light"
     },
     "output_type": "display_data"
    }
   ],
   "source": [
    "popular_df.groupby(by = ['Пара курсов']).sum().sort_values('Количество продаж').plot(kind = 'barh', grid= True, colormap = 'rainbow', figsize=(15, 10))"
   ]
  },
  {
   "cell_type": "markdown",
   "metadata": {},
   "source": [
    "Итак, мы справились с поставленными задачами и создали рекомендательную систему по всем курсам. Теперь, мы сможем предлагать пользователям платформы только те курсы, которые заинтересуют их с наибольшей вероятностью!"
   ]
  }
 ],
 "metadata": {
  "kernelspec": {
   "display_name": "Python 3",
   "language": "python",
   "name": "python3"
  },
  "language_info": {
   "codemirror_mode": {
    "name": "ipython",
    "version": 3
   },
   "file_extension": ".py",
   "mimetype": "text/x-python",
   "name": "python",
   "nbconvert_exporter": "python",
   "pygments_lexer": "ipython3",
   "version": "3.7.6"
  }
 },
 "nbformat": 4,
 "nbformat_minor": 4
}
